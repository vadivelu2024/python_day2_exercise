{
 "cells": [
  {
   "cell_type": "raw",
   "metadata": {},
   "source": [
    "Read Five marks tamil,english,maths,science and social and if all marks are greater than 35 , print pass else print fail"
   ]
  },
  {
   "cell_type": "code",
   "execution_count": 3,
   "metadata": {},
   "outputs": [
    {
     "name": "stdin",
     "output_type": "stream",
     "text": [
      "Enter your tamil marks: 56\n",
      "Enter your english marks: 78\n",
      "Enter your maths marks: 45\n",
      "Enter your science marks: 89\n",
      "Enter your social marks: 56\n"
     ]
    },
    {
     "name": "stdout",
     "output_type": "stream",
     "text": [
      "pass\n"
     ]
    }
   ],
   "source": [
    "#method1\n",
    "tamil=int(input(\"Enter your tamil marks:\"))\n",
    "english=int(input(\"Enter your english marks:\"))\n",
    "maths=int(input(\"Enter your maths marks:\"))\n",
    "science=int(input(\"Enter your science marks:\"))\n",
    "social=int(input(\"Enter your social marks:\"))\n",
    "\n",
    "if tamil and english and maths and science and social >= 35:\n",
    "    print(\"pass\")\n",
    "else:\n",
    "    print(\"fail\")"
   ]
  },
  {
   "cell_type": "code",
   "execution_count": 6,
   "metadata": {},
   "outputs": [
    {
     "name": "stdin",
     "output_type": "stream",
     "text": [
      "Enter your tamil marks: 35\n",
      "Enter your english marks: 35\n",
      "Enter your maths marks: 35\n",
      "Enter your science marks: 35\n",
      "Enter your social marks: 3\n"
     ]
    },
    {
     "name": "stdout",
     "output_type": "stream",
     "text": [
      "pass\n",
      "pass\n",
      "pass\n",
      "pass\n",
      "fail\n"
     ]
    }
   ],
   "source": [
    "#method1 by using if-else-ladder\n",
    "tamil=int(input(\"Enter your tamil marks:\"))\n",
    "english=int(input(\"Enter your english marks:\"))\n",
    "maths=int(input(\"Enter your maths marks:\"))\n",
    "science=int(input(\"Enter your science marks:\"))\n",
    "social=int(input(\"Enter your social marks:\"))\n",
    "\n",
    "if tamil>=35:\n",
    "    print(\"pass\")\n",
    "    if english>=35:\n",
    "        print(\"pass\")\n",
    "        if maths>=35:\n",
    "            print(\"pass\")\n",
    "            if science>=35:\n",
    "                print(\"pass\")\n",
    "                if social>=35:\n",
    "                    print(\"pass\")\n",
    "                else:\n",
    "                    print(\"fail\")\n",
    "            else:\n",
    "                print(\"fail\")\n",
    "        else:\n",
    "            print(\"fail\")\n",
    "    else:\n",
    "        print(\"fail\")\n",
    "else:\n",
    "    print(\"fail\")"
   ]
  },
  {
   "cell_type": "code",
   "execution_count": null,
   "metadata": {},
   "outputs": [],
   "source": []
  }
 ],
 "metadata": {
  "kernelspec": {
   "display_name": "Python [conda env:base] *",
   "language": "python",
   "name": "conda-base-py"
  },
  "language_info": {
   "codemirror_mode": {
    "name": "ipython",
    "version": 3
   },
   "file_extension": ".py",
   "mimetype": "text/x-python",
   "name": "python",
   "nbconvert_exporter": "python",
   "pygments_lexer": "ipython3",
   "version": "3.13.5"
  }
 },
 "nbformat": 4,
 "nbformat_minor": 4
}
